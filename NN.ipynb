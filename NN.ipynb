{
  "nbformat": 4,
  "nbformat_minor": 0,
  "metadata": {
    "colab": {
      "provenance": []
    },
    "kernelspec": {
      "name": "python3",
      "display_name": "Python 3"
    },
    "language_info": {
      "name": "python"
    }
  },
  "cells": [
    {
      "cell_type": "code",
      "execution_count": null,
      "metadata": {
        "id": "x9w7HqI0uSfz"
      },
      "outputs": [],
      "source": [
        "import torch\n",
        "import torch.nn as nn\n",
        "import torch.optim as optim\n",
        "import numpy as np\n",
        "import pandas as pd\n",
        "import random\n",
        "import matplotlib.pyplot as plt\n",
        "from sklearn.preprocessing import MinMaxScaler\n",
        "from torch.utils.data import Dataset\n",
        "from torch.utils.data import DataLoader"
      ]
    },
    {
      "cell_type": "code",
      "source": [
        "# Set the hyperparameters\n",
        "HIDDEN_SIZE = 32\n",
        "NUM_EPOCHS = 100\n",
        "LAG = 10\n",
        "# learning_rate = 0.001"
      ],
      "metadata": {
        "id": "4SO9gA9d-zH8"
      },
      "execution_count": null,
      "outputs": []
    },
    {
      "cell_type": "code",
      "source": [
        "class RNN(nn.Module):\n",
        "    def __init__(self, input_size, hidden_size, output_size):\n",
        "        super(RNN, self).__init__()\n",
        "        self.hidden_size = hidden_size\n",
        "        self.rnn = nn.RNN(input_size, hidden_size, batch_first=True)\n",
        "        self.fc = nn.Linear(hidden_size, output_size)\n",
        "\n",
        "    def forward(self, x):\n",
        "        out, _ = self.rnn(x)\n",
        "        out = self.fc(out)\n",
        "        return out"
      ],
      "metadata": {
        "id": "lPI8bdnsuYQm"
      },
      "execution_count": null,
      "outputs": []
    },
    {
      "cell_type": "code",
      "source": [
        "device = torch.device(\"cpu\")\n",
        "if torch.cuda.is_available():\n",
        "    device = torch.device(\"cuda\")\n",
        "\n",
        "stock = 'AAPL'"
      ],
      "metadata": {
        "id": "g8l4tgxxudn0"
      },
      "execution_count": null,
      "outputs": []
    },
    {
      "cell_type": "code",
      "source": [
        "data = pd.read_csv(f'./data_feed/{stock}.csv')\n",
        "data.set_index('Date', inplace=True)\n",
        "data.index = pd.to_datetime(data.index)\n",
        "split_date = data.index[0] + pd.offsets.DateOffset(years=8)\n",
        "train_data = data[data.index <= split_date]\n",
        "test_data = data[data.index > split_date]\n",
        "train_close = train_data['Adj Close']\n",
        "test_close = train_data['Adj Close']"
      ],
      "metadata": {
        "id": "Lgi6l4GkurA8"
      },
      "execution_count": null,
      "outputs": []
    },
    {
      "cell_type": "code",
      "source": [
        "scaler = MinMaxScaler()\n",
        "scaled_train = scaler.fit_transform(train_close.values.reshape((-1, 1)))\n",
        "scaled_test = scaler.transform(test_close.values.reshape((-1, 1)))"
      ],
      "metadata": {
        "id": "ySA679S0yMUq"
      },
      "execution_count": null,
      "outputs": []
    },
    {
      "cell_type": "code",
      "source": [
        "class TimeSeriesdataset(Dataset):\n",
        "    def __init__(self, lag: int, data: np.ndarray, device: torch.device):\n",
        "        self.lag = lag\n",
        "        self.data = data.reshape(1, -1)[0]\n",
        "        self.device = device\n",
        "\n",
        "    def __len__(self):\n",
        "        return len(self.data) - (self.lag-1) - 1\n",
        "\n",
        "    def __getitem__(self, idx):\n",
        "        X = self.data[idx:idx+self.lag]\n",
        "        Y = np.array([self.data[idx+self.lag]])\n",
        "        return torch.Tensor(X, device=self.device), torch.Tensor(Y, device=self.device)"
      ],
      "metadata": {
        "id": "3WTnNjHnyQCT"
      },
      "execution_count": null,
      "outputs": []
    },
    {
      "cell_type": "code",
      "source": [
        "train_dataset = TimeSeriesdataset(lag=LAG, data=scaled_train, device=device)\n",
        "test_dataset = TimeSeriesdataset(lag=LAG, data=scaled_test, device=device)\n",
        "\n",
        "train_dataloader = DataLoader(train_dataset, batch_size=64, shuffle=False)\n",
        "test_dataloader = DataLoader(test_dataset, batch_size=64, shuffle=False)"
      ],
      "metadata": {
        "id": "U_AgmYUmzesI"
      },
      "execution_count": null,
      "outputs": []
    },
    {
      "cell_type": "code",
      "source": [
        "# Create the RNN model\n",
        "model = RNN(LAG, HIDDEN_SIZE, 1).to(device)\n",
        "\n",
        "# Define the loss function and optimizer\n",
        "criterion = nn.MSELoss()\n",
        "optimizer = optim.Adam(model.parameters())"
      ],
      "metadata": {
        "id": "3SCXL1F27jmi"
      },
      "execution_count": null,
      "outputs": []
    },
    {
      "cell_type": "code",
      "source": [
        "# Training loop\n",
        "running_loss = 0.\n",
        "last_loss = 0.\n",
        "for epoch in range(NUM_EPOCHS):\n",
        "    for i, batch in enumerate(train_dataloader):\n",
        "        X, y = batch\n",
        "        predict = model(X)\n",
        "        loss = criterion(predict, y)\n",
        "\n",
        "        # Backward and optimize\n",
        "        optimizer.zero_grad()\n",
        "        loss.backward()\n",
        "        optimizer.step()\n",
        "        running_loss += loss.item()\n",
        "\n",
        "    if (epoch + 1) % 10 == 0:\n",
        "        last_loss = running_loss/10\n",
        "        print(f'Epoch: {epoch + 1}/{NUM_EPOCHS}, Loss: {last_loss}')\n",
        "        running_loss = 0"
      ],
      "metadata": {
        "colab": {
          "base_uri": "https://localhost:8080/"
        },
        "id": "_Tc6YKF-70M5",
        "outputId": "4ab96f85-5ebc-4dac-ad88-a89a01736431"
      },
      "execution_count": null,
      "outputs": [
        {
          "output_type": "stream",
          "name": "stdout",
          "text": [
            "Epoch: 10/100, Loss: 0.14416552316470188\n",
            "Epoch: 20/100, Loss: 0.03478086851719127\n",
            "Epoch: 30/100, Loss: 0.0409609358470334\n",
            "Epoch: 40/100, Loss: 0.014045450348567102\n",
            "Epoch: 50/100, Loss: 0.07830436727817869\n",
            "Epoch: 60/100, Loss: 0.035995376784012476\n",
            "Epoch: 70/100, Loss: 0.009319417622646143\n",
            "Epoch: 80/100, Loss: 0.009087552375422091\n",
            "Epoch: 90/100, Loss: 0.02294000678939483\n",
            "Epoch: 100/100, Loss: 0.10518183754720667\n"
          ]
        }
      ]
    },
    {
      "cell_type": "code",
      "source": [
        "# Generate predictions\n",
        "model.eval()\n",
        "with torch.no_grad():\n",
        "    for i, batch in enumerate(test_dataloader):\n",
        "        X, y = batch\n",
        "        predict = model(X)"
      ],
      "metadata": {
        "id": "Fw5M4zeD9LTx"
      },
      "execution_count": null,
      "outputs": []
    },
    {
      "cell_type": "code",
      "source": [],
      "metadata": {
        "id": "MHDCSRC3B026"
      },
      "execution_count": null,
      "outputs": []
    }
  ]
}