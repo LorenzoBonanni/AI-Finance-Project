{
 "cells": [
  {
   "cell_type": "code",
   "execution_count": null,
   "metadata": {},
   "outputs": [],
   "source": [
    "import pandas as pd\n",
    "import numpy as np\n",
    "import pmdarima as pm\n",
    "import matplotlib.pyplot as plt\n",
    "from statsmodels.tsa.stattools import adfuller\n",
    "from pmdarima.arima.utils import ndiffs\n",
    "from pmdarima.arima import auto_arima\n",
    "from sklearn.model_selection import train_test_split\n",
    "from sklearn.metrics import mean_squared_error\n",
    "from statsmodels.tsa.statespace.varmax import VARMAX\n"
   ]
  },
  {
   "cell_type": "code",
   "execution_count": null,
   "metadata": {},
   "outputs": [],
   "source": [
    "amazon_data = pd.read_csv('data_feed/AMZN.csv')\n",
    "\n",
    "amazon = amazon_data[[\"Adj Close\"]]\n"
   ]
  },
  {
   "attachments": {},
   "cell_type": "markdown",
   "metadata": {},
   "source": [
    "#### Prove casuali per il test della stazionarietà"
   ]
  },
  {
   "cell_type": "code",
   "execution_count": null,
   "metadata": {},
   "outputs": [],
   "source": [
    "pm.plot_acf(amazon)"
   ]
  },
  {
   "cell_type": "code",
   "execution_count": null,
   "metadata": {},
   "outputs": [],
   "source": [
    "# Enforcing stationarity - auto_arima - pmdarima\n",
    "\n",
    "results = auto_arima(amazon, test='adf', trace=True, n_jobs=-1)\n",
    "print(results)"
   ]
  },
  {
   "attachments": {},
   "cell_type": "markdown",
   "metadata": {},
   "source": [
    "#### Prova un pò più seria della stazionarietà\n",
    "\n",
    "Dopo si prova a fare VARMAX.\n",
    "\n",
    "Questo codice esegue il test di stazionarietà utilizzando il test ADF (Augmented Dickey-Fuller). Il grafico mostra la serie temporale originale, la rolling mean (media mobile) e la rolling standard deviation (deviazione standard mobile). I risultati del test ADF vengono stampati, inclusi il valore dell'ADF Statistic, il p-value e i valori critici."
   ]
  },
  {
   "cell_type": "code",
   "execution_count": null,
   "metadata": {},
   "outputs": [],
   "source": [
    "def test_stationarity(timeseries):\n",
    "    # Calcola il rolling mean e la rolling standard deviation\n",
    "    rolling_mean = timeseries.rolling(window=12).mean()\n",
    "    rolling_std = timeseries.rolling(window=12).std()\n",
    "\n",
    "    # Plotta la serie temporale originale, la rolling mean e la rolling standard deviation\n",
    "    plt.plot(timeseries, color='blue', label='Original')\n",
    "    plt.plot(rolling_mean, color='red', label='Rolling Mean')\n",
    "    plt.plot(rolling_std, color='black', label='Rolling Std')\n",
    "    plt.legend(loc='best')\n",
    "    plt.title('Rolling Mean & Standard Deviation')\n",
    "    plt.show()\n",
    "\n",
    "    # Esegue il test ADF (Augmented Dickey-Fuller)\n",
    "    result = adfuller(timeseries)\n",
    "\n",
    "    # Stampa i risultati del test ADF\n",
    "    print('Results of Augmented Dickey-Fuller Test:')\n",
    "    print('ADF Statistic: {}'.format(result[0]))\n",
    "    print('p-value: {}'.format(result[1]))\n",
    "    print('Critical Values:')\n",
    "    for key, value in result[4].items():\n",
    "        print('\\t{}: {}'.format(key, value))\n",
    "\n",
    "# Utilizzo del test di stazionarietà\n",
    "test_stationarity(amazon)\n"
   ]
  },
  {
   "attachments": {},
   "cell_type": "markdown",
   "metadata": {},
   "source": [
    "Questa funzione make_stationary() prende la serie temporale originale come input e restituisce la serie temporale differenziata (o trasformata) che è resa stazionaria. Nell'esempio, viene applicata la differenziazione utilizzando il metodo diff(), ma puoi anche esplorare altre tecniche come trasformazioni logaritmiche o rimozione delle componenti stagionali."
   ]
  },
  {
   "cell_type": "code",
   "execution_count": null,
   "metadata": {},
   "outputs": [],
   "source": [
    "def make_stationary(series):\n",
    "    # Calcola il numero consigliato di differenziazioni\n",
    "    n_diffs = ndiffs(series, test='adf')\n",
    "    print('Recommended number of differences: {}'.format(n_diffs))\n",
    "\n",
    "    # Differenzia la serie temporale\n",
    "    differenced_series = series.diff(n_diffs).dropna()\n",
    "\n",
    "    return n_diffs, differenced_series\n",
    "\n",
    "differenced_series = make_stationary(amazon)\n"
   ]
  },
  {
   "cell_type": "code",
   "execution_count": null,
   "metadata": {},
   "outputs": [],
   "source": [
    "train_data, test_data = train_test_split(differenced_series, test_size = 0.2)"
   ]
  },
  {
   "cell_type": "code",
   "execution_count": null,
   "metadata": {},
   "outputs": [],
   "source": [
    "# Step 4: VARMAX Model\n",
    "best_aic = np.inf\n",
    "best_order = (0,0)\n",
    "\n",
    "for p in range(3):  # Specify the range of p values\n",
    "    for q in range(3):  # Specify the range of q values\n",
    "        model = VARMAX(train_data, order=(p, q))  # Use d=0 since we already differenced the data\n",
    "        results = model.fit()\n",
    "        aic = results.aic\n",
    "        print(aic)\n",
    "        if aic < best_aic:\n",
    "            best_aic = aic\n",
    "            best_order = (p, q)\n",
    "\n",
    "print(best_order)\n",
    "\n",
    "# Fit the VARMAX model with the best order\n",
    "model = VARMAX(train_data, order=best_order)\n",
    "results = model.fit()\n",
    "\n",
    "# Step 5: Forecasting and Evaluation\n",
    "n_forecast = len(test_data)\n",
    "forecast = results.forecast(steps=n_forecast)  # Generate forecasts for the test set\n",
    "\n",
    "# Evaluate the forecasts using a metric like mean squared error (MSE)\n",
    "mse = mean_squared_error(test_data, forecast)\n",
    "print(\"Mean Squared Error (MSE):\", mse)\n",
    "\n",
    "# Visualize the actual values and the forecasts\n",
    "plt.plot(test_data, label='Actual')\n",
    "plt.plot(forecast, label='Forecast')\n",
    "plt.legend()\n",
    "plt.show()"
   ]
  },
  {
   "cell_type": "code",
   "execution_count": null,
   "metadata": {},
   "outputs": [],
   "source": [
    "\n",
    "\n",
    "def evaluate_varmax(differenced_series, p, q):\n",
    "    model = VARMAX(differenced_series, order=(p, q))\n",
    "    results = model.fit()\n",
    "    return results\n",
    "\n",
    "# Create a VARMAX model, p: autoregressive component, q: order of the moving average component\n",
    "model = VARMAX(differenced_series, order=(p, q))\n",
    "\n",
    "# Fit the model\n",
    "results = model.fit()\n",
    "\n",
    "# Make predictions, n: number of steps ahead for which you want to generate forecasts\n",
    "n = 10\n",
    "forecast = results.forecast(steps=n)\n",
    "\n",
    "# If you want to invert the differencing and obtain predictions on the original scale:\n",
    "# Assuming you have the original time series 'original_series'\n",
    "predicted_values = differenced_series.shift(1).cumsum() + forecast\n",
    "\n",
    "# Print the predicted values\n",
    "print(predicted_values)"
   ]
  },
  {
   "cell_type": "code",
   "execution_count": null,
   "metadata": {},
   "outputs": [],
   "source": [
    "import matplotlib.pyplot as plt\n",
    "\n",
    "time_series = [10, 12, 14, 15, 18, 20, 22, 25, 28, 30]\n",
    "predictions = [18, 20, 22, 25, 28]\n",
    "start_index = 5\n",
    "\n",
    "plt.plot(range(len(time_series)), time_series, label='Time Series')\n",
    "plt.plot(range(start_index, start_index + len(predictions)), predictions, label='Predictions')\n",
    "\n",
    "plt.xlabel('Time')\n",
    "plt.ylabel('Value')\n",
    "plt.title('Time Series with Predictions')\n",
    "plt.legend()\n",
    "\n",
    "plt.show()"
   ]
  }
 ],
 "metadata": {
  "kernelspec": {
   "display_name": "Python 3",
   "language": "python",
   "name": "python3"
  },
  "language_info": {
   "codemirror_mode": {
    "name": "ipython",
    "version": 3
   },
   "file_extension": ".py",
   "mimetype": "text/x-python",
   "name": "python",
   "nbconvert_exporter": "python",
   "pygments_lexer": "ipython3",
   "version": "3.9.10"
  },
  "orig_nbformat": 4
 },
 "nbformat": 4,
 "nbformat_minor": 2
}
