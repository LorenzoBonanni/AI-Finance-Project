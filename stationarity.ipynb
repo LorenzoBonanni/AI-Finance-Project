{
 "cells": [
  {
   "cell_type": "code",
   "execution_count": 1,
   "metadata": {},
   "outputs": [],
   "source": [
    "import pandas as pd\n",
    "import pmdarima as pm"
   ]
  },
  {
   "cell_type": "code",
   "execution_count": 4,
   "metadata": {},
   "outputs": [],
   "source": [
    "amazon_data = pd.read_csv('data_feed/AMZN.csv')\n",
    "\n",
    "amazon = amazon_data[[\"Adj Close\"]]\n",
    "\n"
   ]
  },
  {
   "cell_type": "code",
   "execution_count": null,
   "metadata": {},
   "outputs": [],
   "source": [
    "pm.plot_acf(amazon)"
   ]
  },
  {
   "cell_type": "code",
   "execution_count": 13,
   "metadata": {},
   "outputs": [
    {
     "name": "stdout",
     "output_type": "stream",
     "text": [
      "0.660841745112342\n"
     ]
    }
   ],
   "source": [
    "# Stationarity tests\n",
    "from pmdarima.arima.utils import ndiffs\n",
    "\n",
    "# Estimate the number of differences using an ADF test:\n",
    "n_adf = ndiffs(amazon, test='adf') \n",
    "\n",
    "# Or a KPSS test (auto_arima default):\n",
    "n_kpss = ndiffs(amazon, test='kpss') \n",
    "\n",
    "# Or a PP test:\n",
    "n_pp = ndiffs(amazon, test='pp') \n",
    "\n",
    "n_adf == n_kpss == n_pp == 0\n",
    "n_adf, n_kpss, n_pp\n",
    "\n",
    "from pmdarima.arima.stationarity import ADFTest\n",
    "\n",
    "# Test whether we should difference at the alpha=0.05\n",
    "# significance level\n",
    "adf_test = ADFTest(alpha=0.05)\n",
    "p_val, should_diff = adf_test.should_diff(amazon) \n",
    "print(p_val)"
   ]
  },
  {
   "cell_type": "code",
   "execution_count": 3,
   "metadata": {},
   "outputs": [
    {
     "name": "stderr",
     "output_type": "stream",
     "text": [
      "c:\\Users\\fvirg\\AppData\\Local\\Programs\\Python\\Python39\\lib\\site-packages\\pmdarima\\arima\\_validation.py:76: UserWarning: stepwise model cannot be fit in parallel (n_jobs=1). Falling back to stepwise parameter search.\n",
      "  warnings.warn('stepwise model cannot be fit in parallel (n_jobs=%i). '\n"
     ]
    },
    {
     "name": "stdout",
     "output_type": "stream",
     "text": [
      "Performing stepwise search to minimize aic\n",
      " ARIMA(2,1,2)(0,0,0)[0] intercept   : AIC=10957.214, Time=6.90 sec\n",
      " ARIMA(0,1,0)(0,0,0)[0] intercept   : AIC=10981.068, Time=0.10 sec\n",
      " ARIMA(1,1,0)(0,0,0)[0] intercept   : AIC=10981.764, Time=0.21 sec\n",
      " ARIMA(0,1,1)(0,0,0)[0] intercept   : AIC=10981.807, Time=0.38 sec\n",
      " ARIMA(0,1,0)(0,0,0)[0]             : AIC=10980.097, Time=0.09 sec\n",
      " ARIMA(1,1,2)(0,0,0)[0] intercept   : AIC=10981.030, Time=3.75 sec\n",
      " ARIMA(2,1,1)(0,0,0)[0] intercept   : AIC=10981.143, Time=1.74 sec\n",
      " ARIMA(3,1,2)(0,0,0)[0] intercept   : AIC=10958.542, Time=9.93 sec\n",
      " ARIMA(2,1,3)(0,0,0)[0] intercept   : AIC=10958.543, Time=6.69 sec\n",
      " ARIMA(1,1,1)(0,0,0)[0] intercept   : AIC=10980.067, Time=1.04 sec\n",
      " ARIMA(1,1,3)(0,0,0)[0] intercept   : AIC=10979.473, Time=2.06 sec\n",
      " ARIMA(3,1,1)(0,0,0)[0] intercept   : AIC=10980.124, Time=3.29 sec\n",
      " ARIMA(3,1,3)(0,0,0)[0] intercept   : AIC=10959.168, Time=8.28 sec\n",
      " ARIMA(2,1,2)(0,0,0)[0]             : AIC=10956.241, Time=4.29 sec\n",
      " ARIMA(1,1,2)(0,0,0)[0]             : AIC=10980.057, Time=1.16 sec\n",
      " ARIMA(2,1,1)(0,0,0)[0]             : AIC=10980.173, Time=0.64 sec\n",
      " ARIMA(3,1,2)(0,0,0)[0]             : AIC=10957.602, Time=4.17 sec\n",
      " ARIMA(2,1,3)(0,0,0)[0]             : AIC=10957.603, Time=3.35 sec\n",
      " ARIMA(1,1,1)(0,0,0)[0]             : AIC=10979.137, Time=0.55 sec\n",
      " ARIMA(1,1,3)(0,0,0)[0]             : AIC=10978.580, Time=0.79 sec\n",
      " ARIMA(3,1,1)(0,0,0)[0]             : AIC=10979.227, Time=1.53 sec\n",
      " ARIMA(3,1,3)(0,0,0)[0]             : AIC=10958.582, Time=5.87 sec\n",
      "\n",
      "Best model:  ARIMA(2,1,2)(0,0,0)[0]          \n",
      "Total fit time: 66.892 seconds\n",
      " ARIMA(2,1,2)(0,0,0)[0]          \n"
     ]
    }
   ],
   "source": [
    "# Enforcing stationarity - auto_arima - pmdarima\n",
    "from pmdarima.arima import auto_arima\n",
    "\n",
    "results = auto_arima(amazon, test='adf', trace=True, n_jobs=-1)\n",
    "print(results)"
   ]
  },
  {
   "cell_type": "code",
   "execution_count": 12,
   "metadata": {},
   "outputs": [],
   "source": [
    "#statsmodels - VARMAX\n"
   ]
  }
 ],
 "metadata": {
  "kernelspec": {
   "display_name": "Python 3",
   "language": "python",
   "name": "python3"
  },
  "language_info": {
   "codemirror_mode": {
    "name": "ipython",
    "version": 3
   },
   "file_extension": ".py",
   "mimetype": "text/x-python",
   "name": "python",
   "nbconvert_exporter": "python",
   "pygments_lexer": "ipython3",
   "version": "3.9.10"
  },
  "orig_nbformat": 4
 },
 "nbformat": 4,
 "nbformat_minor": 2
}
